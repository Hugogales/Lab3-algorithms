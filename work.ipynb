{
 "cells": [
  {
   "cell_type": "markdown",
   "metadata": {},
   "source": [
    "# Lab 3 \n",
    "- Authors : Hugo G, Dylan N, Aiden T"
   ]
  },
  {
   "cell_type": "code",
   "execution_count": 1,
   "metadata": {},
   "outputs": [
    {
     "name": "stdout",
     "output_type": "stream",
     "text": [
      "Square is convex: True\n",
      "Concave shape is convex: False\n",
      "Pentagon is convex: False\n",
      "Complex concave shape is convex: False\n"
     ]
    }
   ],
   "source": [
    "def is_convex(polygon):\n",
    "    \"\"\"\n",
    "    Determines if a polygon is convex.\n",
    "\n",
    "    Parameters:\n",
    "    polygon (list of tuples): List of (x, y) tuples representing the vertices of the polygon in order.\n",
    "\n",
    "    Returns:\n",
    "    bool: True if the polygon is convex, False if concave.\n",
    "    \"\"\"\n",
    "    if len(polygon) < 3:\n",
    "        raise ValueError(\"A polygon must have at least three vertices.\")\n",
    "\n",
    "    def cross_product(o, a, b):\n",
    "        \"\"\"\n",
    "        Computes the cross product of OA and OB vectors.\n",
    "\n",
    "        Parameters:\n",
    "        o, a, b (tuple): Points represented as (x, y).\n",
    "\n",
    "        Returns:\n",
    "        float: The z-component of the cross product.\n",
    "        \"\"\"\n",
    "        return (a[0] - o[0]) * (b[1] - o[1]) - \\\n",
    "               (a[1] - o[1]) * (b[0] - o[0])\n",
    "\n",
    "    num_points = len(polygon)\n",
    "    prev_cross = 0\n",
    "    for i in range(num_points):\n",
    "        o = polygon[i]\n",
    "        a = polygon[(i + 1) % num_points]\n",
    "        b = polygon[(i + 2) % num_points]\n",
    "        cross = cross_product(o, a, b)\n",
    "        if cross != 0:\n",
    "            if prev_cross != 0:\n",
    "                if (cross > 0) != (prev_cross > 0):\n",
    "                    return False\n",
    "            prev_cross = cross\n",
    "    return True\n",
    "\n",
    "# Example Usage\n",
    "if __name__ == \"__main__\":\n",
    "    # Convex Polygon (e.g., square)\n",
    "    square = [(0, 0), (0, 1), (1, 1), (1, 0)]\n",
    "    print(\"Square is convex:\", is_convex(square))  # Output: True\n",
    "\n",
    "    # Concave Polygon (e.g., arrow shape)\n",
    "    concave = [(0, 0), (2, 2), (4, 0), (2, 1)]\n",
    "    print(\"Concave shape is convex:\", is_convex(concave))  # Output: False\n",
    "\n",
    "    # Another Convex Polygon (e.g., regular pentagon)\n",
    "    pentagon = [(0, 0), (1, 2), (3, 1), (2, -1), (-1, -1)]\n",
    "    print(\"Pentagon is convex:\", is_convex(pentagon))  # Output: True\n",
    "\n",
    "    # Complex Concave Polygon\n",
    "    complex_concave = [(0,0), (2,1), (1,2), (2,3), (0,4), (-2,3), (-1,2), (-2,1)]\n",
    "    print(\"Complex concave shape is convex:\", is_convex(complex_concave))  # Output: False\n",
    "\n",
    "\n",
    "# made by GPT4o"
   ]
  },
  {
   "cell_type": "code",
   "execution_count": null,
   "metadata": {},
   "outputs": [],
   "source": []
  }
 ],
 "metadata": {
  "kernelspec": {
   "display_name": "Python 3",
   "language": "python",
   "name": "python3"
  },
  "language_info": {
   "codemirror_mode": {
    "name": "ipython",
    "version": 3
   },
   "file_extension": ".py",
   "mimetype": "text/x-python",
   "name": "python",
   "nbconvert_exporter": "python",
   "pygments_lexer": "ipython3",
   "version": "3.10.0"
  }
 },
 "nbformat": 4,
 "nbformat_minor": 2
}
